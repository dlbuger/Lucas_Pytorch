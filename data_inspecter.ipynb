{
 "cells": [
  {
   "cell_type": "code",
   "execution_count": 1,
   "metadata": {},
   "outputs": [],
   "source": [
    "import numpy as np\n",
    "\n",
    "import torch\n",
    "import torch.nn as tnn\n",
    "import torch.optim as topti\n",
    "\n",
    "from torchtext import data\n",
    "from torchtext.vocab import GloVe"
   ]
  },
  {
   "cell_type": "markdown",
   "metadata": {},
   "source": [
    "# 检视数据集"
   ]
  },
  {
   "cell_type": "code",
   "execution_count": 2,
   "metadata": {},
   "outputs": [],
   "source": [
    "textField = data.Field(lower=True, include_lengths=True, batch_first=True)\n",
    "labelField = data.Field(sequential=False)\n",
    "\n",
    "from imdb_dataloader import IMDB\n",
    "train, dev = IMDB.splits(textField, labelField, train=\"train\", validation=\"dev\")\n",
    "\n",
    "textField.build_vocab(train, dev, vectors=GloVe(name=\"6B\", dim=50))\n",
    "labelField.build_vocab(train, dev)\n",
    "\n",
    "trainLoader, testLoader = data.BucketIterator.splits((train, dev), shuffle=True, batch_size=64,\n",
    "                                                     sort_key=lambda x: len(x.text), sort_within_batch=True)"
   ]
  },
  {
   "cell_type": "code",
   "execution_count": 3,
   "metadata": {},
   "outputs": [],
   "source": [
    "def sample_des():\n",
    "    tmp = iter(trainLoader)\n",
    "    batch = next(tmp)\n",
    "    inputs = textField.vocab.vectors[batch.text[0]]\n",
    "    length = batch.text[1]\n",
    "    labels = batch.label.type(torch.FloatTensor)\n",
    "        \n",
    "    print(f\"inputs shape --> {inputs.shape}\")\n",
    "    print(f\"\\t Samples in batch -> {inputs.shape[0]}\")\n",
    "    print(f'\\t Each sample has {inputs.shape[1]} words')\n",
    "    print(f\"\\t Each word is represented by {inputs.shape[2]} length vector\")\n",
    "\n",
    "    print()\n",
    "    print(f\"labels shape --> {labels.shape}\")\n",
    "    print(f\"\\tlabels Counts --> {len(set(labels.numpy()))}\")\n",
    "    print(f\"\\tlabel types --> {set(labels.numpy().astype(int))}\")\n",
    "    # 二分类问题， log_sigmoid + MSE就完事r了\n",
    "\n",
    "    print()\n",
    "    print(f\"Samples in this batch's ture length: \\n{length}\")"
   ]
  },
  {
   "cell_type": "code",
   "execution_count": 4,
   "metadata": {
    "scrolled": false
   },
   "outputs": [
    {
     "name": "stdout",
     "output_type": "stream",
     "text": [
      "inputs shape --> torch.Size([64, 557, 50])\n",
      "\t Samples in batch -> 64\n",
      "\t Each sample has 557 words\n",
      "\t Each word is represented by 50 length vector\n",
      "\n",
      "labels shape --> torch.Size([64])\n",
      "\tlabels Counts --> 2\n",
      "\tlabel types --> {1, 2}\n",
      "\n",
      "Samples in this batch's ture length: \n",
      "tensor([557, 557, 556, 556, 556, 555, 555, 555, 554, 554, 554, 554, 554, 553,\n",
      "        553, 552, 552, 552, 551, 551, 550, 550, 549, 549, 549, 546, 546, 546,\n",
      "        545, 545, 544, 544, 544, 544, 543, 543, 543, 542, 541, 541, 540, 540,\n",
      "        539, 539, 538, 538, 537, 537, 535, 534, 533, 531, 530, 530, 529, 529,\n",
      "        528, 527, 526, 526, 526, 526, 525, 525])\n"
     ]
    }
   ],
   "source": [
    "sample_des()"
   ]
  },
  {
   "cell_type": "code",
   "execution_count": 115,
   "metadata": {},
   "outputs": [
    {
     "name": "stdout",
     "output_type": "stream",
     "text": [
      "tensor([[ 0.8794, -0.1118,  0.4338,  ...,  0.3718, -0.7137,  0.3018],\n",
      "        [ 0.4270,  0.2086, -0.4812,  ...,  1.0771,  0.1696,  0.1380],\n",
      "        [ 0.6805, -0.0393,  0.3019,  ..., -0.0733, -0.0647, -0.2604],\n",
      "        ...,\n",
      "        [ 0.0000,  0.0000,  0.0000,  ...,  0.0000,  0.0000,  0.0000],\n",
      "        [ 0.0000,  0.0000,  0.0000,  ...,  0.0000,  0.0000,  0.0000],\n",
      "        [ 0.0000,  0.0000,  0.0000,  ...,  0.0000,  0.0000,  0.0000]])\n"
     ]
    },
    {
     "data": {
      "text/plain": [
       "array([50, 50, 50,  0, 50, 50, 50, 50, 50, 50, 50, 50, 50,  0, 50, 50,  0,\n",
       "       50, 50, 50, 50, 50,  0,  0, 50,  0, 50, 50, 50, 50, 50, 50, 50,  0,\n",
       "        0, 50, 50, 50, 50, 50, 50, 50,  0, 50, 50, 50, 50, 50, 50, 50, 50,\n",
       "       50,  0, 50,  0, 50, 50, 50, 50, 50, 50,  0, 50, 50, 50, 50, 50, 50,\n",
       "       50, 50,  0, 50,  0, 50, 50, 50, 50, 50, 50, 50, 50, 50, 50,  0, 50,\n",
       "       50, 50,  0, 50, 50, 50, 50, 50, 50, 50, 50, 50, 50,  0, 50, 50, 50,\n",
       "        0, 50, 50, 50, 50, 50, 50, 50, 50, 50, 50,  0,  0, 50,  0, 50, 50,\n",
       "       50, 50, 50,  0, 50, 50, 50, 50, 50,  0,  0, 50, 50,  0, 50, 50, 50,\n",
       "       50, 50,  0, 50, 50,  0, 50, 50, 50,  0, 50, 50, 50, 50, 50, 50,  0,\n",
       "       50,  0, 50, 50, 50, 50, 50, 50, 50, 50, 50, 50, 50,  0,  0, 50, 50,\n",
       "       50, 50, 50, 50, 50, 50,  0, 50, 50, 50, 50,  0, 50,  0, 50, 50, 50,\n",
       "       50, 50, 50, 50,  0, 50, 50, 50, 50, 50, 50, 50,  0, 50, 50, 50,  0,\n",
       "       50, 50, 50,  0, 50, 50, 50, 50,  0, 50, 50,  0,  0, 50, 50, 50, 50,\n",
       "       50, 50, 50,  0, 50, 50, 50, 50, 50, 50, 50, 50, 50, 50, 50, 50, 50,\n",
       "       50, 50,  0, 50, 50, 50, 50, 50,  0, 50,  0, 50, 50, 50, 50,  0, 50,\n",
       "        0, 50, 50, 50, 50, 50, 50, 50, 50,  0,  0, 50, 50,  0, 50,  0, 50,\n",
       "       50, 50, 50, 50,  0, 50, 50, 50, 50, 50,  0, 50,  0,  0, 50, 50, 50,\n",
       "       50,  0, 50, 50, 50, 50,  0, 50, 50,  0, 50, 50, 50, 50, 50, 50,  0,\n",
       "       50, 50, 50, 50, 50,  0, 50, 50, 50,  0,  0, 50, 50, 50, 50, 50, 50,\n",
       "        0,  0,  0,  0,  0,  0,  0,  0,  0,  0,  0,  0])"
      ]
     },
     "execution_count": 115,
     "metadata": {},
     "output_type": "execute_result"
    }
   ],
   "source": [
    "print(inputs[-1][300:335][[x for x in range(35)]])\n",
    "tmp = inputs[-1].numpy()\n",
    "tmp = np.array((tmp != 0), dtype=int)\n",
    "np.array([x.sum() for x in tmp])"
   ]
  },
  {
   "cell_type": "code",
   "execution_count": 106,
   "metadata": {},
   "outputs": [
    {
     "data": {
      "text/plain": [
       "[1, 2]"
      ]
     },
     "execution_count": 106,
     "metadata": {},
     "output_type": "execute_result"
    }
   ],
   "source": [
    "list(set(np.array(labels).astype(int)))"
   ]
  },
  {
   "cell_type": "code",
   "execution_count": null,
   "metadata": {},
   "outputs": [],
   "source": []
  }
 ],
 "metadata": {
  "kernelspec": {
   "display_name": "Python 3",
   "language": "python",
   "name": "python3"
  },
  "language_info": {
   "codemirror_mode": {
    "name": "ipython",
    "version": 3
   },
   "file_extension": ".py",
   "mimetype": "text/x-python",
   "name": "python",
   "nbconvert_exporter": "python",
   "pygments_lexer": "ipython3",
   "version": "3.7.5"
  }
 },
 "nbformat": 4,
 "nbformat_minor": 2
}
