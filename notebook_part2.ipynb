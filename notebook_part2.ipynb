{
 "cells": [
  {
   "cell_type": "code",
   "execution_count": 1,
   "metadata": {},
   "outputs": [],
   "source": [
    "import numpy as np\n",
    "\n",
    "import torch\n",
    "import torch.nn as tnn\n",
    "import torch.optim as topti\n",
    "\n",
    "from torchtext import data\n",
    "from torchtext.vocab import GloVe"
   ]
  },
  {
   "cell_type": "code",
   "execution_count": 2,
   "metadata": {},
   "outputs": [],
   "source": [
    "class NetworkLstm(tnn.Module):\n",
    "    \"\"\"\n",
    "    Implement an LSTM-based network that accepts batched 50-d\n",
    "    vectorized inputs, with the following structure:\n",
    "    LSTM(hidden dim = 100) -> Linear(64) -> ReLu-> Linear(1)\n",
    "    Assume batch-first ordering.\n",
    "    Output should be 1d tensor of shape [batch_size].\n",
    "    \"\"\"\n",
    "\n",
    "    def __init__(self):\n",
    "        super(NetworkLstm, self).__init__()\n",
    "        \"\"\"\n",
    "        TODO:\n",
    "        Create and initialise weights and biases for the layers.\n",
    "        \"\"\"\n",
    "        self.lstm = torch.nn.LSTM(50,100,batch_first=True)\n",
    "        self.dense1 = torch.nn.Linear(100,64)\n",
    "        self.A1 = torch.nn.ReLU()\n",
    "        self.dense2 = torch.nn.Linear(64,1)\n",
    "\n",
    "\n",
    "    def forward(self, input, length):\n",
    "        \"\"\"\n",
    "        DO NOT MODIFY FUNCTION SIGNATURE\n",
    "        TODO:\n",
    "        Create the forward pass through the network.\n",
    "        \"\"\"\n",
    "        # Function Signature的length是干啥的？？？\n",
    "        # 可能是self.lstm(input)[0][length] ? ? ?\n",
    "        x = torch.nn.functional.tanh(self.lstm(input)[1][0]) \n",
    "        x = self.dense1(x)\n",
    "        x = self.A1(x)\n",
    "        x = self.dense2(x)\n",
    "\n",
    "        return x"
   ]
  },
  {
   "cell_type": "markdown",
   "metadata": {},
   "source": [
    "## Test"
   ]
  },
  {
   "cell_type": "markdown",
   "metadata": {},
   "source": [
    "### 生成features 和 labels\n",
    "> features = 20 batch的 50一维向量"
   ]
  },
  {
   "cell_type": "code",
   "execution_count": 3,
   "metadata": {},
   "outputs": [
    {
     "name": "stdout",
     "output_type": "stream",
     "text": [
      "NetworkLstm(\n",
      "  (lstm): LSTM(50, 100, batch_first=True)\n",
      "  (dense1): Linear(in_features=100, out_features=64, bias=True)\n",
      "  (A1): ReLU()\n",
      "  (dense2): Linear(in_features=64, out_features=1, bias=True)\n",
      ")\n"
     ]
    }
   ],
   "source": [
    "x = torch.rand(20, 1, 50)\n",
    "y = torch.ones(20,1)\n",
    "net = NetworkLstm()\n",
    "print(net)"
   ]
  },
  {
   "cell_type": "code",
   "execution_count": 4,
   "metadata": {},
   "outputs": [],
   "source": [
    "optimizer = topti.SGD(net.parameters(), lr = 1e-3)\n",
    "loss_func = torch.nn.MSELoss()"
   ]
  },
  {
   "cell_type": "code",
   "execution_count": 5,
   "metadata": {},
   "outputs": [
    {
     "name": "stderr",
     "output_type": "stream",
     "text": [
      "/home/reco/Applications/anaconda3/envs/pytorch/lib/python3.7/site-packages/torch/nn/functional.py:1340: UserWarning: nn.functional.tanh is deprecated. Use torch.tanh instead.\n",
      "  warnings.warn(\"nn.functional.tanh is deprecated. Use torch.tanh instead.\")\n",
      "/home/reco/Applications/anaconda3/envs/pytorch/lib/python3.7/site-packages/torch/nn/modules/loss.py:431: UserWarning: Using a target size (torch.Size([20, 1])) that is different to the input size (torch.Size([1, 20, 1])). This will likely lead to incorrect results due to broadcasting. Please ensure they have the same size.\n",
      "  return F.mse_loss(input, target, reduction=self.reduction)\n"
     ]
    },
    {
     "name": "stdout",
     "output_type": "stream",
     "text": [
      "0.8838136792182922\n",
      "0.23332321643829346\n",
      "0.19327683746814728\n",
      "0.6770240664482117\n",
      "0.11072434484958649\n",
      "torch.Size([1, 20, 1])\n"
     ]
    }
   ],
   "source": [
    "for e in range(100):\n",
    "    _loss = 0\n",
    "    output = net(x,19)    \n",
    "    loss = loss_func(output, y)\n",
    "    loss.backward()\n",
    "    optimizer.step()\n",
    "    _loss += loss.item()\n",
    "    if e % 20 == 0:\n",
    "        print(_loss)\n",
    "print(output.shape)"
   ]
  },
  {
   "cell_type": "markdown",
   "metadata": {},
   "source": [
    "### NetworkCnn"
   ]
  },
  {
   "cell_type": "code",
   "execution_count": 6,
   "metadata": {},
   "outputs": [],
   "source": [
    "class NetworkCnn(tnn.Module):\n",
    "    \"\"\"\n",
    "    Implement a Convolutional Neural Network.\n",
    "    All conv layers should be of the form:\n",
    "    conv1d(channels=50, kernel size=8, padding=5)\n",
    "\n",
    "    Conv -> ReLu -> maxpool(size=4) -> Conv -> ReLu -> maxpool(size=4) ->\n",
    "    Conv -> ReLu -> maxpool over time (global pooling) -> Linear(1)\n",
    "\n",
    "    The max pool over time operation refers to taking the\n",
    "    maximum val from the entire output channel. See Kim et. al. 2014:\n",
    "    https://www.aclweb.org/anthology/D14-1181/\n",
    "    Assume batch-first ordering.\n",
    "    Output should be 1d tensor of shape [batch_size].\n",
    "    \"\"\"\n",
    "\n",
    "    def __init__(self):\n",
    "        super().__init__()\n",
    "        \"\"\"\n",
    "        TODO:\n",
    "        Create and initialise weights and biases for the layers.\n",
    "        \"\"\"\n",
    "        \n",
    "        self.conv1 = torch.nn.Conv1d(50, 50, 8, padding=5,)\n",
    "        self.relu = torch.nn.ReLU()\n",
    "        self.pool1 = torch.nn.MaxPool1d(4)\n",
    "        self.conv2 = torch.nn.Conv1d(50, 50, 8, padding=5)\n",
    "        # ReLu\n",
    "        self.pool2 = torch.nn.MaxPool1d(4) # shape (batch_size, channel)\n",
    "        self.conv3 = torch.nn.Conv1d(50, 50, 8, padding=5)\n",
    "        # ReLu\n",
    "        self.global_pool = torch.nn.MaxPool1d(7)\n",
    "        self.dense = torch.nn.Linear(1, 1)\n",
    "        \n",
    "    def forward(self, input, length): # 原本有个length参数\n",
    "        \"\"\"\n",
    "        DO NOT MODIFY FUNCTION SIGNATURE\n",
    "        TODO:\n",
    "        Create the forward pass through the network.\n",
    "        \"\"\"\n",
    "        x = self.conv1(input)\n",
    "        x = self.relu(x)\n",
    "        x = self.pool1(x)\n",
    "        x = self.conv2(x)\n",
    "        x = self.relu(x)\n",
    "        x = self.pool2(x)\n",
    "        x = self.conv3(x)\n",
    "        x = self.relu(x)\n",
    "        x = self.global_pool(x)\n",
    "        x = self.dense(x)\n",
    "        return torch.nn.functional.sigmoid(x)"
   ]
  },
  {
   "cell_type": "markdown",
   "metadata": {},
   "source": [
    "## Test"
   ]
  },
  {
   "cell_type": "code",
   "execution_count": 7,
   "metadata": {},
   "outputs": [
    {
     "name": "stdout",
     "output_type": "stream",
     "text": [
      "NetworkCnn(\n",
      "  (conv1): Conv1d(50, 50, kernel_size=(8,), stride=(1,), padding=(5,))\n",
      "  (relu): ReLU()\n",
      "  (pool1): MaxPool1d(kernel_size=4, stride=4, padding=0, dilation=1, ceil_mode=False)\n",
      "  (conv2): Conv1d(50, 50, kernel_size=(8,), stride=(1,), padding=(5,))\n",
      "  (pool2): MaxPool1d(kernel_size=4, stride=4, padding=0, dilation=1, ceil_mode=False)\n",
      "  (conv3): Conv1d(50, 50, kernel_size=(8,), stride=(1,), padding=(5,))\n",
      "  (global_pool): MaxPool1d(kernel_size=7, stride=7, padding=0, dilation=1, ceil_mode=False)\n",
      "  (dense): Linear(in_features=1, out_features=1, bias=True)\n",
      ")\n"
     ]
    },
    {
     "name": "stderr",
     "output_type": "stream",
     "text": [
      "/home/reco/Applications/anaconda3/envs/pytorch/lib/python3.7/site-packages/torch/nn/functional.py:1351: UserWarning: nn.functional.sigmoid is deprecated. Use torch.sigmoid instead.\n",
      "  warnings.warn(\"nn.functional.sigmoid is deprecated. Use torch.sigmoid instead.\")\n"
     ]
    }
   ],
   "source": [
    "x = torch.randn(20, 50, 50)\n",
    "y = torch.ones(20, 1)\n",
    "net = NetworkCnn()\n",
    "print(net)\n",
    "out = net(x,50)"
   ]
  },
  {
   "cell_type": "code",
   "execution_count": 8,
   "metadata": {},
   "outputs": [
    {
     "data": {
      "text/plain": [
       "torch.Size([20, 50, 1])"
      ]
     },
     "execution_count": 8,
     "metadata": {},
     "output_type": "execute_result"
    }
   ],
   "source": [
    "out.shape"
   ]
  },
  {
   "cell_type": "code",
   "execution_count": 9,
   "metadata": {},
   "outputs": [],
   "source": [
    "def lossFunc():\n",
    "    \"\"\"\n",
    "    TODO:\n",
    "    Return a loss function appropriate for the above networks that\n",
    "    will add a sigmoid to the output and calculate the binary\n",
    "    cross-entropy.\n",
    "    \"\"\"\n",
    "    return torch.nn.BCEWithLogitsLoss()"
   ]
  },
  {
   "cell_type": "code",
   "execution_count": 45,
   "metadata": {},
   "outputs": [],
   "source": [
    "\n",
    "\n",
    "def measures(outputs, labels):\n",
    "    \"\"\"\n",
    "    TODO:\n",
    "    Return (in the following order): the number of true positive\n",
    "    classifications, true negatives, false positives and false\n",
    "    negatives from the given batch outputs and provided labels.\n",
    "    \n",
    "    https://webcms3.cse.unsw.edu.au/COMP9444/19T3/resources/36531 第12页\n",
    "    https://developers.google.com/machine-learning/crash-course/classification/true-false-positive-negative\n",
    "    \n",
    "    outputs and labels are torch tensors.\n",
    "    \"\"\"\n",
    "    length = labels.shape[0]\n",
    "    tp_batch = tn_batch = fp_batch = fn_batch = 0\n",
    "    outputs = outputs.view(-1)\n",
    "    for i in range(len(outputs)):\n",
    "        if outputs[i] >= 0.5:\n",
    "            outputs[i] = 1\n",
    "        else:\n",
    "            outputs[i] = 0\n",
    "    \n",
    "    \n",
    "    for i in range(length):\n",
    "        if outputs[i] - labels[i] == 1:\n",
    "            fp_batch += 1\n",
    "        if outputs[i] - labels[i] == -1:\n",
    "            fn_batch += 1\n",
    "        if outputs[i] - labels[i] == 0:\n",
    "            if outputs[i] == 1:\n",
    "                tp_batch += 1\n",
    "            else:\n",
    "                tn_batch += 1\n",
    "    return tp_batch, tn_batch, fp_batch, fn_batch"
   ]
  },
  {
   "cell_type": "markdown",
   "metadata": {},
   "source": [
    "# 查看数据集"
   ]
  },
  {
   "cell_type": "code",
   "execution_count": 11,
   "metadata": {},
   "outputs": [],
   "source": [
    "textField = data.Field(lower=True, include_lengths=True, batch_first=True)\n",
    "labelField = data.Field(sequential=False)\n",
    "\n",
    "from imdb_dataloader import IMDB\n",
    "train, dev = IMDB.splits(textField, labelField, train=\"train\", validation=\"dev\")\n",
    "\n",
    "textField.build_vocab(train, dev, vectors=GloVe(name=\"6B\", dim=50))\n",
    "labelField.build_vocab(train, dev)\n",
    "\n",
    "trainLoader, testLoader = data.BucketIterator.splits((train, dev), shuffle=True, batch_size=64,\n",
    "                                                     sort_key=lambda x: len(x.text), sort_within_batch=True)"
   ]
  },
  {
   "cell_type": "code",
   "execution_count": 12,
   "metadata": {},
   "outputs": [
    {
     "name": "stdout",
     "output_type": "stream",
     "text": [
      "torch.Size([64, 116, 50])\n",
      "torch.Size([64])\n",
      "tensor([116, 116, 116, 116, 116, 116, 116, 116, 116, 116, 116, 116, 116, 116,\n",
      "        116, 116, 116, 116, 116, 116, 116, 116, 116, 115, 115, 115, 115, 115,\n",
      "        115, 115, 115, 115, 115, 115, 115, 115, 115, 115, 115, 115, 115, 115,\n",
      "        115, 115, 115, 115, 115, 115, 115, 115, 115, 115, 115, 115, 115, 115,\n",
      "        115, 115, 115, 115, 114, 114, 114, 114])\n"
     ]
    }
   ],
   "source": [
    "for batch in trainLoader:\n",
    "    inputs = textField.vocab.vectors[batch.text[0]]\n",
    "    length = batch.text[1]\n",
    "    labels = batch.label.type(torch.FloatTensor)\n",
    "    \n",
    "print(inputs.shape)\n",
    "# Sentences -> 64\n",
    "# Seq_length -> 200\n",
    "# dim(input_shape) -> 50\n",
    "print(labels.shape)\n",
    "print(length)"
   ]
  },
  {
   "cell_type": "markdown",
   "metadata": {},
   "source": [
    "# Main"
   ]
  },
  {
   "cell_type": "code",
   "execution_count": 58,
   "metadata": {},
   "outputs": [
    {
     "name": "stdout",
     "output_type": "stream",
     "text": [
      "Using device: cuda:0\n",
      "Epoch:  1, Batch:   32, Loss: 0.697\n",
      "Epoch:  1, Batch:   64, Loss: 0.692\n",
      "Epoch:  1, Batch:   96, Loss: 0.728\n",
      "Epoch:  1, Batch:  128, Loss: 0.694\n",
      "Epoch:  1, Batch:  160, Loss: 0.693\n",
      "Epoch:  1, Batch:  192, Loss: 0.688\n",
      "Epoch:  1, Batch:  224, Loss: 0.693\n",
      "Epoch:  1, Batch:  256, Loss: 0.695\n",
      "Epoch:  1, Batch:  288, Loss: 0.666\n",
      "Epoch:  1, Batch:  320, Loss: 0.617\n",
      "Epoch:  1, Batch:  352, Loss: 0.604\n",
      "Epoch:  1, Batch:  384, Loss: 0.675\n",
      "Epoch:  2, Batch:   32, Loss: 0.682\n",
      "Epoch:  2, Batch:   64, Loss: 0.632\n",
      "Epoch:  2, Batch:   96, Loss: 0.589\n",
      "Epoch:  2, Batch:  128, Loss: 0.565\n",
      "Epoch:  2, Batch:  160, Loss: 0.524\n",
      "Epoch:  2, Batch:  192, Loss: 0.548\n",
      "Epoch:  2, Batch:  224, Loss: 0.500\n",
      "Epoch:  2, Batch:  256, Loss: 0.488\n",
      "Epoch:  2, Batch:  288, Loss: 0.491\n",
      "Epoch:  2, Batch:  320, Loss: 0.467\n",
      "Epoch:  2, Batch:  352, Loss: 0.470\n",
      "Epoch:  2, Batch:  384, Loss: 0.447\n",
      "Epoch:  3, Batch:   32, Loss: 0.436\n",
      "Epoch:  3, Batch:   64, Loss: 0.420\n",
      "Epoch:  3, Batch:   96, Loss: 0.412\n",
      "Epoch:  3, Batch:  128, Loss: 0.419\n",
      "Epoch:  3, Batch:  160, Loss: 0.413\n",
      "Epoch:  3, Batch:  192, Loss: 0.433\n",
      "Epoch:  3, Batch:  224, Loss: 0.399\n",
      "Epoch:  3, Batch:  256, Loss: 0.425\n",
      "Epoch:  3, Batch:  288, Loss: 0.444\n",
      "Epoch:  3, Batch:  320, Loss: 0.483\n",
      "Epoch:  3, Batch:  352, Loss: 0.466\n",
      "Epoch:  3, Batch:  384, Loss: 0.420\n",
      "Epoch:  4, Batch:   32, Loss: 0.363\n",
      "Epoch:  4, Batch:   64, Loss: 0.392\n",
      "Epoch:  4, Batch:   96, Loss: 0.420\n",
      "Epoch:  4, Batch:  128, Loss: 0.389\n",
      "Epoch:  4, Batch:  160, Loss: 0.402\n",
      "Epoch:  4, Batch:  192, Loss: 0.411\n",
      "Epoch:  4, Batch:  224, Loss: 0.366\n",
      "Epoch:  4, Batch:  256, Loss: 0.377\n",
      "Epoch:  4, Batch:  288, Loss: 0.396\n",
      "Epoch:  4, Batch:  320, Loss: 0.368\n",
      "Epoch:  4, Batch:  352, Loss: 0.375\n",
      "Epoch:  4, Batch:  384, Loss: 0.381\n",
      "Epoch:  5, Batch:   32, Loss: 0.383\n",
      "Epoch:  5, Batch:   64, Loss: 0.348\n",
      "Epoch:  5, Batch:   96, Loss: 0.348\n",
      "Epoch:  5, Batch:  128, Loss: 0.344\n",
      "Epoch:  5, Batch:  160, Loss: 0.369\n",
      "Epoch:  5, Batch:  192, Loss: 0.346\n",
      "Epoch:  5, Batch:  224, Loss: 0.357\n",
      "Epoch:  5, Batch:  256, Loss: 0.335\n",
      "Epoch:  5, Batch:  288, Loss: 0.348\n",
      "Epoch:  5, Batch:  320, Loss: 0.359\n",
      "Epoch:  5, Batch:  352, Loss: 0.359\n",
      "Epoch:  5, Batch:  384, Loss: 0.358\n",
      "Epoch:  6, Batch:   32, Loss: 0.322\n",
      "Epoch:  6, Batch:   64, Loss: 0.295\n",
      "Epoch:  6, Batch:   96, Loss: 0.334\n",
      "Epoch:  6, Batch:  128, Loss: 0.316\n",
      "Epoch:  6, Batch:  160, Loss: 0.326\n",
      "Epoch:  6, Batch:  192, Loss: 0.312\n",
      "Epoch:  6, Batch:  224, Loss: 0.347\n",
      "Epoch:  6, Batch:  256, Loss: 0.348\n",
      "Epoch:  6, Batch:  288, Loss: 0.350\n",
      "Epoch:  6, Batch:  320, Loss: 0.340\n",
      "Epoch:  6, Batch:  352, Loss: 0.332\n",
      "Epoch:  6, Batch:  384, Loss: 0.309\n",
      "Epoch:  7, Batch:   32, Loss: 0.288\n",
      "Epoch:  7, Batch:   64, Loss: 0.270\n",
      "Epoch:  7, Batch:   96, Loss: 0.287\n",
      "Epoch:  7, Batch:  128, Loss: 0.317\n",
      "Epoch:  7, Batch:  160, Loss: 0.301\n",
      "Epoch:  7, Batch:  192, Loss: 0.298\n",
      "Epoch:  7, Batch:  224, Loss: 0.301\n",
      "Epoch:  7, Batch:  256, Loss: 0.298\n",
      "Epoch:  7, Batch:  288, Loss: 0.298\n",
      "Epoch:  7, Batch:  320, Loss: 0.309\n",
      "Epoch:  7, Batch:  352, Loss: 0.292\n",
      "Epoch:  7, Batch:  384, Loss: 0.315\n",
      "Epoch:  8, Batch:   32, Loss: 0.281\n",
      "Epoch:  8, Batch:   64, Loss: 0.252\n",
      "Epoch:  8, Batch:   96, Loss: 0.256\n",
      "Epoch:  8, Batch:  128, Loss: 0.251\n",
      "Epoch:  8, Batch:  160, Loss: 0.305\n",
      "Epoch:  8, Batch:  192, Loss: 0.286\n",
      "Epoch:  8, Batch:  224, Loss: 0.282\n",
      "Epoch:  8, Batch:  256, Loss: 0.248\n",
      "Epoch:  8, Batch:  288, Loss: 0.285\n",
      "Epoch:  8, Batch:  320, Loss: 0.274\n",
      "Epoch:  8, Batch:  352, Loss: 0.272\n",
      "Epoch:  8, Batch:  384, Loss: 0.269\n",
      "Epoch:  9, Batch:   32, Loss: 0.227\n",
      "Epoch:  9, Batch:   64, Loss: 0.219\n",
      "Epoch:  9, Batch:   96, Loss: 0.243\n",
      "Epoch:  9, Batch:  128, Loss: 0.252\n",
      "Epoch:  9, Batch:  160, Loss: 0.244\n",
      "Epoch:  9, Batch:  192, Loss: 0.239\n",
      "Epoch:  9, Batch:  224, Loss: 0.258\n",
      "Epoch:  9, Batch:  256, Loss: 0.291\n",
      "Epoch:  9, Batch:  288, Loss: 0.278\n",
      "Epoch:  9, Batch:  320, Loss: 0.237\n",
      "Epoch:  9, Batch:  352, Loss: 0.260\n",
      "Epoch:  9, Batch:  384, Loss: 0.249\n",
      "Epoch: 10, Batch:   32, Loss: 0.213\n",
      "Epoch: 10, Batch:   64, Loss: 0.214\n",
      "Epoch: 10, Batch:   96, Loss: 0.214\n",
      "Epoch: 10, Batch:  128, Loss: 0.249\n",
      "Epoch: 10, Batch:  160, Loss: 0.235\n",
      "Epoch: 10, Batch:  192, Loss: 0.245\n",
      "Epoch: 10, Batch:  224, Loss: 0.222\n",
      "Epoch: 10, Batch:  256, Loss: 0.251\n",
      "Epoch: 10, Batch:  288, Loss: 0.232\n",
      "Epoch: 10, Batch:  320, Loss: 0.261\n",
      "Epoch: 10, Batch:  352, Loss: 0.246\n",
      "Epoch: 10, Batch:  384, Loss: 0.288\n",
      "Classification accuracy: 83.11%\n",
      "Matthews Correlation Coefficient: 0.67\n"
     ]
    }
   ],
   "source": [
    "def main():\n",
    "    # Use a GPU if available, as it should be faster.\n",
    "    #device = torch.device(\"cuda\" if torch.cuda.is_available() else \"cpu\")\n",
    "    device = torch.device(\"cuda:0\" if torch.cuda.is_available() else \"cpu\")\n",
    "    print(\"Using device: \" + str(device))\n",
    "\n",
    "    # Load the training dataset, and create a data loader to generate a batch.\n",
    "    textField = data.Field(lower=True, include_lengths=True, batch_first=True)\n",
    "    labelField = data.Field(sequential=False)\n",
    "\n",
    "    from imdb_dataloader import IMDB\n",
    "    train, dev = IMDB.splits(textField, labelField, train=\"train\", validation=\"dev\")\n",
    "\n",
    "    textField.build_vocab(train, dev, vectors=GloVe(name=\"6B\", dim=50))\n",
    "    labelField.build_vocab(train, dev)\n",
    "\n",
    "    trainLoader, testLoader = data.BucketIterator.splits((train, dev), shuffle=True, batch_size=64,\n",
    "                                                         sort_key=lambda x: len(x.text), sort_within_batch=True)\n",
    "\n",
    "    # Create an instance of the network in memory (potentially GPU memory). Can change to NetworkCnn during development.\n",
    "    net = NetworkLstm().to(device)\n",
    "\n",
    "    criterion = lossFunc()\n",
    "    optimiser = topti.Adam(net.parameters(), lr=0.009)  # Minimise the loss using the Adam algorithm.\n",
    "\n",
    "    for epoch in range(10):\n",
    "        running_loss = 0\n",
    "\n",
    "        for i, batch in enumerate(trainLoader):\n",
    "            # Get a batch and potentially send it to GPU memory.\n",
    "            inputs, length, labels = textField.vocab.vectors[batch.text[0]].to(device), batch.text[1].to(\n",
    "                device), batch.label.type(torch.FloatTensor).to(device)\n",
    "            labels -= 1\n",
    "\n",
    "            # PyTorch calculates gradients by accumulating contributions to them (useful for\n",
    "            # RNNs).  Hence we must manually set them to zero before calculating them.\n",
    "            optimiser.zero_grad()\n",
    "\n",
    "            # Forward pass through the network.\n",
    "            output = net(inputs, length)\n",
    "\n",
    "            loss = criterion(output.view(-1), labels)\n",
    "\n",
    "            # Calculate gradients.\n",
    "            loss.backward()\n",
    "\n",
    "            # Minimise the loss according to the gradient.\n",
    "            optimiser.step()\n",
    "\n",
    "            running_loss += loss.item()\n",
    "\n",
    "            if i % 32 == 31:\n",
    "                print(\"Epoch: %2d, Batch: %4d, Loss: %.3f\" % (epoch + 1, i + 1, running_loss / 32))\n",
    "                running_loss = 0\n",
    "\n",
    "    true_pos, true_neg, false_pos, false_neg = 0, 0, 0, 0\n",
    "\n",
    "    # Evaluate network on the test dataset.  We aren't calculating gradients, so disable autograd to speed up\n",
    "    # computations and reduce memory usage.\n",
    "    with torch.no_grad():\n",
    "        for batch in testLoader:\n",
    "            # Get a batch and potentially send it to GPU memory.\n",
    "            inputs, length, labels = textField.vocab.vectors[batch.text[0]].to(device), batch.text[1].to(\n",
    "                device), batch.label.type(torch.FloatTensor).to(device)\n",
    "\n",
    "            labels -= 1\n",
    "\n",
    "            outputs = net(inputs, length)\n",
    "            tp_batch, tn_batch, fp_batch, fn_batch = measures(outputs, labels)\n",
    "            true_pos += tp_batch\n",
    "            true_neg += tn_batch\n",
    "            false_pos += fp_batch\n",
    "            false_neg += fn_batch\n",
    "            \n",
    "    accuracy = 100 * (true_pos + true_neg) / len(dev)\n",
    "    matthews = MCC(true_pos, true_neg, false_pos, false_neg)\n",
    "\n",
    "    print(\"Classification accuracy: %.2f%%\\n\"\n",
    "          \"Matthews Correlation Coefficient: %.2f\" % (accuracy, matthews))\n",
    "\n",
    "\n",
    "# Matthews Correlation Coefficient calculation.\n",
    "def MCC(tp, tn, fp, fn):\n",
    "    numerator = tp * tn - fp * fn\n",
    "    denominator = ((tp + fp) * (tp + fn) * (tn + fp) * (tn + fn)) ** 0.5\n",
    "\n",
    "    with np.errstate(divide=\"ignore\", invalid=\"ignore\"):\n",
    "        return np.divide(numerator, denominator)\n",
    "\n",
    "\n",
    "if __name__ == '__main__':\n",
    "    main()"
   ]
  },
  {
   "cell_type": "code",
   "execution_count": null,
   "metadata": {},
   "outputs": [],
   "source": []
  }
 ],
 "metadata": {
  "kernelspec": {
   "display_name": "Python 3",
   "language": "python",
   "name": "python3"
  },
  "language_info": {
   "codemirror_mode": {
    "name": "ipython",
    "version": 3
   },
   "file_extension": ".py",
   "mimetype": "text/x-python",
   "name": "python",
   "nbconvert_exporter": "python",
   "pygments_lexer": "ipython3",
   "version": "3.7.5"
  }
 },
 "nbformat": 4,
 "nbformat_minor": 2
}
